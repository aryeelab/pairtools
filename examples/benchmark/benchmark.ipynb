{
 "cells": [
  {
   "cell_type": "markdown",
   "id": "864d317a-4960-4315-846d-ba2f36014614",
   "metadata": {
    "tags": []
   },
   "source": [
    "# Pairtools benchmarking\n",
    "\n",
    "Welcome to pairtools benchmarking. These are the instructions on how to test performance of different software for mapping Hi-C and Hi-C-like methods.\n",
    "Mapping usually results in the file with mapped pairs, which is then converted into binned matrix format. Pairs format is the \"rawest\" interpretable type of data after reads.\n",
    "\n",
    "Reviewing the literature suggests that there are at least 6 methods to map Hi-C and Hi-C-like data. These include:\n",
    "\n",
    "- **pairtools** is a lightweight Python CLI that extracts and manipulates Hi-C contacts post-alignment. Aslignment can be done by:\n",
    "    - bwa mem\n",
    "    - bwa-mem2, ahn optimized version of bwa mem, which [x2-2.5 improves speed over bwa](https://github.com/bwa-mem2/bwa-mem2)\n",
    "\n",
    "- **chromap** is a [fast alignment tool for chromatin profiles](https://www.nature.com/articles/s41467-021-26865-w), not specialized for Hi-C but [parameterized for a broad range of sequencing data including Hi-C short reads](https://github.com/haowenz/chromap#map-hi-c-short-reads). \n",
    "\n",
    "    Does not require separate step of mapping.\n",
    "\n",
    "- **HiC-Pro** is a [pipeline for Hi-C and DNase-C mapping](https://genomebiology.biomedcentral.com/articles/10.1186/s13059-015-0831-x), \"optimized and flexible\".\n",
    "\n",
    "    It calls mapping within. By default, creates the output cooler files with binned data, but the script can be tinkered in order to stop the processing at the step of pairs.  \n",
    "\n",
    "- **Juicer** is a [platform for analysis of Hi-C data](https://github.com/aidenlab/juicer), which is already adapted to a wide range of cluster types.\n",
    "\n",
    "    It calls mapping within. Has an option to stop the data processing at the step of pairs, without further construction of binned matrices. \n",
    "\n",
    "- **HiCExplorer** is a [broad-range set of tools for processing, normalization, analysis and visualization Hi-C and Hi-C-like methods](https://doi.org/10.1038/s41467-017-02525-w). \n",
    "\n",
    "    It [builds Hi-C binned matrix post-alignment with bwa mem](https://hicexplorer.readthedocs.io/en/latest/content/tools/hicBuildMatrix.html#hicbuildmatrix). \n",
    "\n",
    "- **FAN-C** is a [set of CLI tools that runs the mapping (bowtie or bwa mem), extracts and manipulates Hi-C contacts](https://genomebiology.biomedcentral.com/articles/10.1186/s13059-020-02215-9). It also has the [tools for data visualization and downstream analysis](https://github.com/vaquerizaslab/fanc).\n",
    "\n",
    "\n",
    "*We benchmark these programs on one million of representative reads.*\n",
    "These reads are taken from random replicate from Rao SSP et al., [\"Cohesin Loss Eliminates All Loop Domains.\"](https://pubmed.ncbi.nlm.nih.gov/28985562/), Cell, 2017 Oct 5;171(2):305-320.e24\n",
    "<br>\n",
    "Generally, it is useful to assess how much computational time you need per million of reads.\n",
    "<br>\n",
    "As long as you have this assessment, you may multiply the size of your experiment by the whole library size (in mlns of reads), because we expect linear growth of computational complexity of reads mapping with library size.\n",
    "\n",
    "\n",
    "The benchmarking consists of four general steps. If you want to reproduce it, you need to run steps 1 and 2 manually in order to create the working environment, and then use snakemake script to run the benchmarks. \n",
    "<br>\n",
    "You may use the commands form the \"3. Run\" section to get an understanding how each indiviaul framework works and what parameters can be changed. \n",
    "<br>\n",
    "Note that you need separate run of juicer with single value of --ncores, because it does not support parallel launches (because it writes to the default output).\n",
    "<br>\n",
    "Finally, there is a visualization section with a display of all the results that we calcualted on our machines. \n",
    "\n",
    "1. [Install software](#1.-Install-software)\n",
    "\n",
    "2. [Download data and genome](#2.-Download-data-and-genome). \n",
    "\n",
    "3. [Run](#3.-Run)\n",
    "\n",
    "4. [Visualize benchmarks](#4.-Visualize-benchmarks)\n"
   ]
  },
  {
   "cell_type": "markdown",
   "id": "8ae7b1ea-f64b-4740-8694-2fdb1d7353c4",
   "metadata": {},
   "source": [
    "## 1. Install software\n",
    "\n",
    "We will use separate conda environments to install different utilities. Each utility will have its own environment and peth to the binaries."
   ]
  },
  {
   "cell_type": "code",
   "execution_count": null,
   "id": "0f98ab45-3759-4260-ab9f-79e487410d5f",
   "metadata": {},
   "outputs": [],
   "source": [
    "%%bash\n",
    "mkdir ./soft"
   ]
  },
  {
   "cell_type": "markdown",
   "id": "b9dc2f27-868f-4bfd-bd9f-d88d18d6655f",
   "metadata": {},
   "source": [
    "### pairtools"
   ]
  },
  {
   "cell_type": "markdown",
   "id": "cd56a6ab-3836-445c-ab70-73eaa4e80da8",
   "metadata": {},
   "source": [
    "#### pairtools v1.0.0"
   ]
  },
  {
   "cell_type": "code",
   "execution_count": null,
   "id": "f3e0038a-f034-4c40-8e5d-d50f2351679f",
   "metadata": {},
   "outputs": [],
   "source": [
    "%%bash\n",
    "conda create -y --prefix soft/pairtools1.0.0 python=3.9 pip\n",
    "conda activate soft/pairtools1.0.0\n",
    "pip install cython\n",
    "pip install git+https://github.com/open2c/pairtools.git@pre0.4.0 \n",
    "conda install -y -c bioconda \"bwa>=0.7.17\""
   ]
  },
  {
   "cell_type": "markdown",
   "id": "a7548c59-7cd2-40f8-85da-7a6b2ede143d",
   "metadata": {},
   "source": [
    "#### bwa-mem2"
   ]
  },
  {
   "cell_type": "code",
   "execution_count": null,
   "id": "695cdebb-7a4b-4ca9-b2a5-f0a178874b77",
   "metadata": {},
   "outputs": [],
   "source": [
    "%%bash \n",
    "conda activate soft/pairtools1.0.0\n",
    "\n",
    "# bwa-mem2: compile from source (not recommended for general users)\n",
    "\n",
    "# Get the source\n",
    "git clone --recursive https://github.com/bwa-mem2/bwa-mem2 soft/bwa-mem2\n",
    "cd soft/bwa-mem2\n",
    "\n",
    "# Compile\n",
    "make\n",
    "\n",
    "# Exit compilation folder\n",
    "cd ../../"
   ]
  },
  {
   "cell_type": "markdown",
   "id": "0bc9befa-e4cc-4cf3-84d5-fbae94a2e6fb",
   "metadata": {},
   "source": [
    "### chromap"
   ]
  },
  {
   "cell_type": "code",
   "execution_count": null,
   "id": "2f02a8e1-998e-4383-bc8a-d9d493b425ef",
   "metadata": {},
   "outputs": [],
   "source": [
    "%%bash\n",
    "conda create -y --prefix soft/chromap\n",
    "conda activate soft/chromap\n",
    "conda install -y -c bioconda -c conda-forge chromap"
   ]
  },
  {
   "cell_type": "markdown",
   "id": "37f50ca4-74a2-44a3-8038-83a4d7b43c85",
   "metadata": {},
   "source": [
    "### HiC-Pro\n",
    "\n",
    "[HiC-Pro](https://github.com/nservant/HiC-Pro) is a popular software for Hi-C mapping, its now part of nf-core Hi-C pipeline, supports both fragment-based analysis of Hi-C and fragement-free analysis of DNase-based Hi-C."
   ]
  },
  {
   "cell_type": "code",
   "execution_count": null,
   "id": "45c9697c-5f49-4a53-bbf0-18535f05e465",
   "metadata": {},
   "outputs": [],
   "source": [
    "%%bash\n",
    "git clone https://github.com/nservant/HiC-Pro.git soft/HiC-Pro_env/HiC-Pro\n",
    "conda env create -f soft/HiC-Pro/environment.yml -p soft/HiC-Pro_env\n",
    "### Working environment will be soft/HiC-Pro_env\n",
    "\n",
    "conda activate soft/HiC-Pro_env\n",
    "\n",
    "# Install dependencies\n",
    "conda install -y -c bioconda bowtie2 samtools pysam numpy scipy bx-python\n",
    "conda install -y -c r r r-rcolorbrewer r-ggplot2\n",
    "\n",
    "# Copy prepared config:\n",
    "cp configs/config-hicpro_install.txt soft/HiC-Pro_env/HiC-Pro/config-install.txt\n",
    "\n",
    "# Configure and install:\n",
    "cd soft/HiC-Pro_env/HiC-Pro\n",
    "make configure\n",
    "make install\n",
    "\n",
    "cd ../../../\n",
    "\n",
    "# Retain only data processing steps with no creating of maps:\n",
    "sed -i \"s/all : init mapping proc_hic merge_persample hic_qc build_raw_maps ice_norm/all : init mapping proc_hic merge_persample #hic_qc build_raw_maps ice_norm/\" soft/HiC-Pro_env/HiC-Pro/scripts/Makefile"
   ]
  },
  {
   "cell_type": "code",
   "execution_count": null,
   "id": "18e29459-334a-458f-8244-ede873b25258",
   "metadata": {},
   "outputs": [],
   "source": [
    "%%bash\n",
    "# Note that the configs should be adjusted for your system:\n",
    "cp configs/config-hicpro_install.txt soft/HiC-Pro_env/HiC-Pro/config-install.txt\n",
    "cp configs/config-hicpro.txt soft/HiC-Pro_env/HiC-Pro/config-hicpro.txt"
   ]
  },
  {
   "cell_type": "markdown",
   "id": "d00d4aed-94b4-4de6-83b2-9950c9d7b949",
   "metadata": {},
   "source": [
    "### FAN-C"
   ]
  },
  {
   "cell_type": "code",
   "execution_count": null,
   "id": "0ebd9a60-f0d0-4f0b-9a64-d2ea386a15f9",
   "metadata": {},
   "outputs": [],
   "source": [
    "%%bash\n",
    "conda create -y --prefix soft/fanc python=3.9 pip hdf5\n",
    "conda activate soft/fanc\n",
    "pip install fanc\n",
    "conda install -y -c bioconda samtools"
   ]
  },
  {
   "cell_type": "markdown",
   "id": "a2b58a8e-b828-47c7-87f2-86337657f5e4",
   "metadata": {},
   "source": [
    "### Juicer"
   ]
  },
  {
   "cell_type": "code",
   "execution_count": null,
   "id": "c2611844-0e32-465f-befa-a8e296bf54d2",
   "metadata": {},
   "outputs": [],
   "source": [
    "%%bash\n",
    "\n",
    "conda create -y --prefix soft/juicer\n",
    "conda activate soft/juicer\n",
    "\n",
    "conda install -y -c bioconda bwa java-jdk\n",
    "conda install -y -c conda-forge coreutils\n",
    "\n",
    "# Download the recommended stable version:\n",
    "wget https://github.com/aidenlab/juicer/archive/refs/tags/1.6.zip\n",
    "unzip 1.6.zip\n",
    "rm 1.6.zip\n",
    "mv juicer-1.6 soft/juicer-1.6\n",
    "\n",
    "# Download compile jar files of the stable  version:\n",
    "wget http://hicfiles.tc4ga.com.s3.amazonaws.com/public/juicer/juicer_tools.1.6.2_jcuda.0.7.5.jar\n",
    "mv juicer_tools.1.6.2_jcuda.0.7.5.jar soft/juicer-1.6/CPU/scripts/common/juicer_tools.jar\n",
    "\n",
    "# Copy the scripts to some accessible location:\n",
    "mkdir -p soft/juicer-1.6/CPU/scripts/\n",
    "cp -r soft/juicer-1.6/CPU/[^s]* soft/juicer-1.6/CPU/scripts/"
   ]
  },
  {
   "cell_type": "markdown",
   "id": "3e02b40b-1f5c-4bf8-89fc-36af2f485c55",
   "metadata": {},
   "source": [
    "### HiCExplorer"
   ]
  },
  {
   "cell_type": "code",
   "execution_count": null,
   "id": "8d5e4ffd-7908-44eb-9d22-22cb24170207",
   "metadata": {},
   "outputs": [],
   "source": [
    "%%bash\n",
    "\n",
    "conda create -y --prefix soft/hicexplorer python=3.9\n",
    "conda activate soft/hicexplorer\n",
    "conda install -y -c bioconda hicexplorer bwa"
   ]
  },
  {
   "cell_type": "markdown",
   "id": "e325db7c-93d8-4e48-9ba6-8867956398cd",
   "metadata": {},
   "source": [
    "## 2. Download data and genome"
   ]
  },
  {
   "cell_type": "code",
   "execution_count": null,
   "id": "aaea1786-7c9b-425c-9aac-de8ac709688c",
   "metadata": {},
   "outputs": [],
   "source": [
    "%%bash\n",
    "\n",
    "mkdir data"
   ]
  },
  {
   "cell_type": "markdown",
   "id": "d4372383-a702-44f5-89e7-66746700f765",
   "metadata": {},
   "source": [
    "### Download raw data\n",
    "\n",
    "Test data from Rao et al. 2017, 1 mln pairs: "
   ]
  },
  {
   "cell_type": "code",
   "execution_count": null,
   "id": "05b7140b-454d-4bd2-842f-a0d042701a4e",
   "metadata": {},
   "outputs": [],
   "source": [
    "%%bash\n",
    "\n",
    "fastq-dump -O data --gzip --split-files SRR6107789 --minSpotId 0 --maxSpotId 1000000"
   ]
  },
  {
   "cell_type": "code",
   "execution_count": null,
   "id": "2d2952e1-528a-41dc-8efc-be866e958c89",
   "metadata": {},
   "outputs": [],
   "source": [
    "%%bash\n",
    "\n",
    "# Put the data in accessible folder for juicer: \n",
    "mkdir -p data/4juicer/fastq/\n",
    "mkdir -p data/4juicer/splits/\n",
    "cp data/SRR6107789_1.fastq.gz data/4juicer/fastq/SRR6107789_R1.fastq.gz\n",
    "cp data/SRR6107789_2.fastq.gz data/4juicer/fastq/SRR6107789_R2.fastq.gz\n",
    "cp data/4juicer/fastq/* data/4juicer/splits/"
   ]
  },
  {
   "cell_type": "code",
   "execution_count": null,
   "id": "083d9534-ce41-45b1-98f4-2007c64fb5f3",
   "metadata": {},
   "outputs": [],
   "source": [
    "%%bash\n",
    "\n",
    "# Put the data in accessible folder for HiC-Pro:\n",
    "mkdir -p soft/HiC-Pro_env/HiC-Pro/rawdata/sample1\n",
    "cp data/S*fastq.gz soft/HiC-Pro_env/HiC-Pro/rawdata/sample1/"
   ]
  },
  {
   "cell_type": "markdown",
   "id": "a4683297-4109-4786-8faa-26089fa8d3e4",
   "metadata": {},
   "source": [
    "### Install genome"
   ]
  },
  {
   "cell_type": "markdown",
   "id": "1c29a2d6-cdf4-4552-b856-9316b8e332d4",
   "metadata": {},
   "source": [
    "#### Genomepy installation\n",
    "will install fasta, bwa and bowtie2 indexes:"
   ]
  },
  {
   "cell_type": "code",
   "execution_count": null,
   "id": "3bf9ab65-da9c-41f0-adc6-f7f9d268e55e",
   "metadata": {},
   "outputs": [],
   "source": [
    "%%bash\n",
    "\n",
    "# Activate bwa plugin for genomepy:\n",
    "! genomepy plugin enable bwa bowtie2"
   ]
  },
  {
   "cell_type": "code",
   "execution_count": null,
   "id": "2b7dc978-408d-4b32-8a32-119645b24c9f",
   "metadata": {},
   "outputs": [],
   "source": [
    "%%bash\n",
    "\n",
    "# Install hg38 genome by genomepy:\n",
    "! genomepy install hg38 -g data/"
   ]
  },
  {
   "cell_type": "code",
   "execution_count": null,
   "id": "3fe79dca-fc66-4b81-904f-bfedc7cfd5b1",
   "metadata": {},
   "outputs": [],
   "source": [
    "%%bash\n",
    "\n",
    "# Restrict the genome:\n",
    "! cooler digest data/hg38/hg38.fa.sizes data/hg38/hg38.fa DpnII --rel-ids 1 -o data/hg38/hg38.DpnII.bed"
   ]
  },
  {
   "cell_type": "markdown",
   "id": "8db4bf50-7e32-4b01-bb2c-a2f1c02565f7",
   "metadata": {
    "tags": []
   },
   "source": [
    "#### Build genome index: bwa-mem2"
   ]
  },
  {
   "cell_type": "code",
   "execution_count": null,
   "id": "e2691bce-a469-495c-aa3e-2abb6105b1f4",
   "metadata": {},
   "outputs": [],
   "source": [
    "%%bash \n",
    "mkdir data/hg38/index/bwa-mem2/\n",
    "soft/bwa-mem2/bwa-mem2 index -p data/hg38/index/bwa-mem2/hg38 data/hg38/hg38.fa"
   ]
  },
  {
   "cell_type": "markdown",
   "id": "3274559c-b130-4d40-93f1-59efc3abb1ed",
   "metadata": {
    "tags": []
   },
   "source": [
    "#### Build genome index: chromap"
   ]
  },
  {
   "cell_type": "code",
   "execution_count": null,
   "id": "993b7093-d896-4726-bfd5-77c86bb5d302",
   "metadata": {},
   "outputs": [],
   "source": [
    "%%bash \n",
    "mkdir data/hg38/index/chromap\n",
    "chromap -i -r data/hg38/hg38.fa -o data/hg38/index/chromap/hg38"
   ]
  },
  {
   "cell_type": "markdown",
   "id": "5a9bd0a9-9dc0-4942-bb1b-cf7b77363bb6",
   "metadata": {},
   "source": [
    "## 3. Run\n",
    "\n",
    "The banchmarking is usually cumbersome, but it can be simplified by snakemake. We provide a Snakemake pipeline that will allow you to benchmark different approaches.\n",
    "\n",
    "The output of snakemake will consist of resulting Hi-C pairs/maps in `output` folder and benchmarking files in `benchmarks` folder. \n",
    "The file names have the information on parameters in their names:\n",
    "\n"
   ]
  },
  {
   "cell_type": "code",
   "execution_count": null,
   "id": "ad48c488-05f4-4b2d-a18d-2b399e8b03b0",
   "metadata": {},
   "outputs": [],
   "source": [
    "%%bash\n",
    "\n",
    "# Running \n",
    "snakemake --cores 10"
   ]
  },
  {
   "cell_type": "code",
   "execution_count": null,
   "id": "9b086bae-ef42-41bb-9254-42af10c9ab1b",
   "metadata": {},
   "outputs": [],
   "source": [
    "%%bash\n",
    "\n",
    "# Cleanup\n",
    "rm output/*; rm benchmarks/*"
   ]
  },
  {
   "cell_type": "markdown",
   "id": "e46dffea-87ac-4157-8938-ae032d50a591",
   "metadata": {},
   "source": [
    "## Manual run\n",
    "\n",
    "You may also run them to test individual steps of the pipeline."
   ]
  },
  {
   "cell_type": "markdown",
   "id": "6dcbff7b-8caf-4512-9c44-375eac698730",
   "metadata": {},
   "source": [
    "### pairtools"
   ]
  },
  {
   "cell_type": "code",
   "execution_count": null,
   "id": "7da2496b-fd21-4383-a3df-ba9fadb9e505",
   "metadata": {},
   "outputs": [],
   "source": [
    "%%bash\n",
    "\n",
    "soft/bwa-mem2/bwa-mem2 mem -t 5 -SP data/hg38/index/bwa-mem2/hg38 data/SRR6107789_1.fastq.gz data/SRR6107789_2.fastq.gz | \\\n",
    "    soft/pairtools1.0.0/bin/pairtools parse --nproc-in 5 --nproc-out 5 --drop-sam --drop-seq -c data/hg38/hg38.fa.sizes | \\\n",
    "    soft/pairtools1.0.0/bin/pairtools sort --nproc 5 | \\\n",
    "    soft/pairtools1.0.0/bin/pairtools dedup -p 5 --backend cython \\\n",
    "    -o output/result.pairtools.pairs"
   ]
  },
  {
   "cell_type": "markdown",
   "id": "b0c9a7e3-8e08-42bf-9748-cd94eff6731a",
   "metadata": {},
   "source": [
    "### chromap"
   ]
  },
  {
   "cell_type": "code",
   "execution_count": null,
   "id": "e3012cdb-be1c-46ef-bb7a-20eff2d34fba",
   "metadata": {},
   "outputs": [],
   "source": [
    "%%bash\n",
    "\n",
    "soft/chromap/bin/chromap --preset hic --low-mem \\\n",
    "    -t 5 -x data/hg38/index/chromap/hg38 -r data/hg38/hg38.fa \\\n",
    "    -1 data/SRR6107789_1.fastq.gz -2 data/SRR6107789_2.fastq.gz -o output/result.chromap.pairs"
   ]
  },
  {
   "cell_type": "markdown",
   "id": "32e60c83-1fab-4fcb-ba0b-8c1258e457c6",
   "metadata": {},
   "source": [
    "### HiC-Pro"
   ]
  },
  {
   "cell_type": "code",
   "execution_count": null,
   "id": "5931f3a6-82f1-4fd8-b65c-9ed648b5f986",
   "metadata": {},
   "outputs": [],
   "source": [
    "%%bash\n",
    "\n",
    "cd soft/HiC-Pro_env/HiC-Pro\n",
    "bin/HiC-Pro -i rawdata/ -o output -c config-hicpro.txt\n",
    "\n",
    "cd ../../../"
   ]
  },
  {
   "cell_type": "markdown",
   "id": "43171a68-8928-418c-9779-268a5d4923d3",
   "metadata": {},
   "source": [
    "### FAN-C\n",
    "Based on [CLI tutorial](https://fan-c.readthedocs.io/en/latest/fanc-executable/fanc-generate-hic/fanc_modular_steps.html):"
   ]
  },
  {
   "cell_type": "code",
   "execution_count": null,
   "id": "802e66a8-4c93-45d6-a735-4a68a1d9184a",
   "metadata": {},
   "outputs": [],
   "source": [
    "%%bash\n",
    "\n",
    "fanc map -t 5 data/SRR6107789_1.fastq.gz data/hg38/index/bwa/hg38.fa output/fanc-output_1.bam\n",
    "fanc map -t 5 data/SRR6107789_2.fastq.gz data/hg38/index/bwa/hg38.fa output/fanc-output_2.bam\n",
    "samtools sort -@ 5 -n output/fanc-output_1.bam -o output/fanc-output_1.sorted.bam\n",
    "samtools sort -@ 5 -n output/fanc-output_2.bam -o output/fanc-output_2.sorted.bam\n",
    "fanc pairs output/fanc-output_1.sorted.bam output/fanc-output_2.sorted.bam output/fanc-output.pairs -g data/hg38/hg38.DpnII.bed"
   ]
  },
  {
   "cell_type": "markdown",
   "id": "46f11121-bff6-4f92-8d80-aa86b01ffcc0",
   "metadata": {},
   "source": [
    "### Juicer"
   ]
  },
  {
   "cell_type": "code",
   "execution_count": null,
   "id": "a1a5571c-b1da-4125-b915-34884be7299e",
   "metadata": {},
   "outputs": [],
   "source": [
    "%%bash\n",
    "\n",
    "soft/juicer-1.6/CPU/juicer.sh -g hg38 -d data/4juicer/ -s DpnII -S early -p data/hg38/hg38.fa.sizes -y data/hg38/hg38.DpnII.bed -z data/hg38/index/bwa/hg38.fa -t 5 -D soft/juicer-1.6/CPU"
   ]
  },
  {
   "cell_type": "markdown",
   "id": "871ac7b7-0180-4103-a8b3-bd49b7269d83",
   "metadata": {},
   "source": [
    "### HiCExplorer\n",
    "Based on the example: https://hicexplorer.readthedocs.io/en/latest/content/example_usage.html\n",
    "\n",
    "Note that it does not procude the pairs, but binned coolers."
   ]
  },
  {
   "cell_type": "code",
   "execution_count": null,
   "id": "5f14967d-ed63-4d20-a006-bc038d1f1f6f",
   "metadata": {},
   "outputs": [],
   "source": [
    "%%bash\n",
    "\n",
    "hicBuildMatrix --samFiles \\\n",
    "    <(bwa mem -t 4 -A1 -B4 -E50 -L0 data/hg38/index/bwa/hg38.fa data/SRR6107789_1.fastq.gz | samtools view -Shb -) \\\n",
    "    <(bwa mem -t 4 -A1 -B4 -E50 -L0 data/hg38/index/bwa/hg38.fa data/SRR6107789_2.fastq.gz | samtools view -Shb -) \\\n",
    "     --restrictionSequence GATC \\\n",
    "     --danglingSequence GATC \\\n",
    "     --restrictionCutFile data/hg38/hg38.DpnII.bed \\\n",
    "     --threads 4 \\\n",
    "     --inputBufferSize 100000 \\\n",
    "     --QCfolder hicexplorer_tmp \\\n",
    "     -o hicexplorer_output.cool"
   ]
  },
  {
   "cell_type": "markdown",
   "id": "9b3b93e5-47b1-408f-a4d5-32a85060fd8a",
   "metadata": {},
   "source": [
    "## 4. Visualize benchmarks"
   ]
  },
  {
   "cell_type": "code",
   "execution_count": 1,
   "id": "8eb57b57-db42-420a-a2e7-631fda0676e4",
   "metadata": {},
   "outputs": [
    {
     "name": "stdout",
     "output_type": "stream",
     "text": [
      "36 CPUs at 1388 GHz\n"
     ]
    }
   ],
   "source": [
    "# Check the CPU properties:\n",
    "import psutil\n",
    "print(f\"{psutil.cpu_count()} CPUs at {psutil.cpu_freq().current:.0f} GHz\") "
   ]
  },
  {
   "cell_type": "code",
   "execution_count": 2,
   "id": "5a59f6bc-be2d-442b-b4ac-07237f38c38b",
   "metadata": {},
   "outputs": [],
   "source": [
    "import pandas as pd\n",
    "import seaborn as sns\n",
    "import numpy as np\n",
    "import matplotlib as mpl\n",
    "import matplotlib.pyplot as plt\n",
    "%matplotlib inline\n",
    "\n",
    "mpl.rcParams['font.family'] = \"sans-serif\"\n",
    "figsize_A4 = np.array([11.69, 8.27])\n",
    "plt.rcParams[\"figure.figsize\"] = figsize_A4.T\n",
    "plt.rcParams['figure.facecolor']='white'\n",
    "plt.rcParams['font.size']=16\n",
    "\n",
    "import glob"
   ]
  },
  {
   "cell_type": "code",
   "execution_count": 3,
   "id": "986fae72-ac93-4bff-9749-3b3a70057e17",
   "metadata": {},
   "outputs": [],
   "source": [
    "## If you start from .csv. file: \n",
    "# df = pd.read_csv('benchmarking_1mln.csv')"
   ]
  },
  {
   "cell_type": "code",
   "execution_count": 4,
   "id": "dd9e829a-f25e-4c66-b22d-01e008143396",
   "metadata": {},
   "outputs": [
    {
     "name": "stdout",
     "output_type": "stream",
     "text": [
      "24\n"
     ]
    }
   ],
   "source": [
    "# If you start from your own benchmarks:\n",
    "files = glob.glob(\"benchmarks/*\")\n",
    "print(len(files))"
   ]
  },
  {
   "cell_type": "code",
   "execution_count": 5,
   "id": "08707677-e087-44ca-8e8a-9d74ef4482a4",
   "metadata": {},
   "outputs": [],
   "source": [
    "def get_params(filename):\n",
    "    split = filename.split('.')\n",
    "    util= split[1]\n",
    "    ncores = int(split[2])\n",
    "    \n",
    "    return util, ncores\n",
    "\n",
    "timings = []\n",
    "for f in files:\n",
    "    t = pd.read_table(f)\n",
    "    t[['util', 'ncores']] = get_params(f)\n",
    "    timings.append(t)\n",
    "timings = pd.concat(timings)"
   ]
  },
  {
   "cell_type": "code",
   "execution_count": 6,
   "id": "d43f8549-4765-441c-b94c-eb76a950ca4d",
   "metadata": {},
   "outputs": [
    {
     "data": {
      "text/html": [
       "<div>\n",
       "<style scoped>\n",
       "    .dataframe tbody tr th:only-of-type {\n",
       "        vertical-align: middle;\n",
       "    }\n",
       "\n",
       "    .dataframe tbody tr th {\n",
       "        vertical-align: top;\n",
       "    }\n",
       "\n",
       "    .dataframe thead th {\n",
       "        text-align: right;\n",
       "    }\n",
       "</style>\n",
       "<table border=\"1\" class=\"dataframe\">\n",
       "  <thead>\n",
       "    <tr style=\"text-align: right;\">\n",
       "      <th></th>\n",
       "      <th>s</th>\n",
       "      <th>h:m:s</th>\n",
       "      <th>max_rss</th>\n",
       "      <th>max_vms</th>\n",
       "      <th>max_uss</th>\n",
       "      <th>max_pss</th>\n",
       "      <th>io_in</th>\n",
       "      <th>io_out</th>\n",
       "      <th>mean_load</th>\n",
       "      <th>cpu_time</th>\n",
       "      <th>util</th>\n",
       "      <th>ncores</th>\n",
       "    </tr>\n",
       "  </thead>\n",
       "  <tbody>\n",
       "    <tr>\n",
       "      <th>0</th>\n",
       "      <td>550.4871</td>\n",
       "      <td>0:09:10</td>\n",
       "      <td>16937.49</td>\n",
       "      <td>20627.90</td>\n",
       "      <td>16934.21</td>\n",
       "      <td>16935.80</td>\n",
       "      <td>17020.73</td>\n",
       "      <td>0.02</td>\n",
       "      <td>88.39</td>\n",
       "      <td>487.29</td>\n",
       "      <td>pairtools_bwamem2</td>\n",
       "      <td>1</td>\n",
       "    </tr>\n",
       "    <tr>\n",
       "      <th>1</th>\n",
       "      <td>503.9536</td>\n",
       "      <td>0:08:23</td>\n",
       "      <td>17072.92</td>\n",
       "      <td>20436.13</td>\n",
       "      <td>16938.75</td>\n",
       "      <td>16976.63</td>\n",
       "      <td>33640.28</td>\n",
       "      <td>64.62</td>\n",
       "      <td>93.32</td>\n",
       "      <td>21.95</td>\n",
       "      <td>pairtools_bwamem2</td>\n",
       "      <td>1</td>\n",
       "    </tr>\n",
       "    <tr>\n",
       "      <th>2</th>\n",
       "      <td>501.0463</td>\n",
       "      <td>0:08:21</td>\n",
       "      <td>16962.04</td>\n",
       "      <td>20820.16</td>\n",
       "      <td>16908.41</td>\n",
       "      <td>16909.56</td>\n",
       "      <td>50288.75</td>\n",
       "      <td>78.47</td>\n",
       "      <td>95.58</td>\n",
       "      <td>495.06</td>\n",
       "      <td>pairtools_bwamem2</td>\n",
       "      <td>1</td>\n",
       "    </tr>\n",
       "    <tr>\n",
       "      <th>3</th>\n",
       "      <td>497.2351</td>\n",
       "      <td>0:08:17</td>\n",
       "      <td>16973.35</td>\n",
       "      <td>20820.14</td>\n",
       "      <td>16905.40</td>\n",
       "      <td>16921.17</td>\n",
       "      <td>66884.51</td>\n",
       "      <td>117.70</td>\n",
       "      <td>95.54</td>\n",
       "      <td>500.87</td>\n",
       "      <td>pairtools_bwamem2</td>\n",
       "      <td>1</td>\n",
       "    </tr>\n",
       "    <tr>\n",
       "      <th>4</th>\n",
       "      <td>479.1700</td>\n",
       "      <td>0:07:59</td>\n",
       "      <td>16995.29</td>\n",
       "      <td>20756.20</td>\n",
       "      <td>16902.00</td>\n",
       "      <td>16903.00</td>\n",
       "      <td>83578.67</td>\n",
       "      <td>156.94</td>\n",
       "      <td>97.32</td>\n",
       "      <td>49.76</td>\n",
       "      <td>pairtools_bwamem2</td>\n",
       "      <td>1</td>\n",
       "    </tr>\n",
       "  </tbody>\n",
       "</table>\n",
       "</div>"
      ],
      "text/plain": [
       "          s    h:m:s   max_rss   max_vms   max_uss   max_pss     io_in  \\\n",
       "0  550.4871  0:09:10  16937.49  20627.90  16934.21  16935.80  17020.73   \n",
       "1  503.9536  0:08:23  17072.92  20436.13  16938.75  16976.63  33640.28   \n",
       "2  501.0463  0:08:21  16962.04  20820.16  16908.41  16909.56  50288.75   \n",
       "3  497.2351  0:08:17  16973.35  20820.14  16905.40  16921.17  66884.51   \n",
       "4  479.1700  0:07:59  16995.29  20756.20  16902.00  16903.00  83578.67   \n",
       "\n",
       "   io_out  mean_load  cpu_time               util  ncores  \n",
       "0    0.02      88.39    487.29  pairtools_bwamem2       1  \n",
       "1   64.62      93.32     21.95  pairtools_bwamem2       1  \n",
       "2   78.47      95.58    495.06  pairtools_bwamem2       1  \n",
       "3  117.70      95.54    500.87  pairtools_bwamem2       1  \n",
       "4  156.94      97.32     49.76  pairtools_bwamem2       1  "
      ]
     },
     "execution_count": 6,
     "metadata": {},
     "output_type": "execute_result"
    }
   ],
   "source": [
    "timings.head()"
   ]
  },
  {
   "cell_type": "code",
   "execution_count": 7,
   "id": "ba0c1c4f-ac4c-43f5-8245-e32d1d4cc3cf",
   "metadata": {},
   "outputs": [],
   "source": [
    "df = timings.sort_values(['ncores', 'util'])"
   ]
  },
  {
   "cell_type": "code",
   "execution_count": 12,
   "id": "8b20d808-78aa-4efc-9c2d-999b4e393968",
   "metadata": {},
   "outputs": [],
   "source": [
    "labels = ['chromap', 'pairtools_bwamem2', 'pairtools', 'juicer', 'hicpro', 'hicexplorer', 'fanc_bwa', 'fanc_bowtie2']\n",
    "labels_mod = ['Chromap', 'bwa-mem2 + pairtools', 'bwa mem + pairtools', 'Juicer', 'Hi-Pro', 'HiCExplorer', 'bwa mem + FANC', 'bowtie2 + FANC']"
   ]
  },
  {
   "cell_type": "code",
   "execution_count": 54,
   "id": "8f31f3be-cf8f-4976-9a60-28e97c13593d",
   "metadata": {},
   "outputs": [
    {
     "data": {
      "image/png": "[encoded data removed]",
      "text/plain": [
       "<Figure size 841.68x595.44 with 2 Axes>"
      ]
     },
     "metadata": {},
     "output_type": "display_data"
    }
   ],
   "source": [
    "fig, axes = plt.subplots(nrows=1, ncols=2, sharey=True)\n",
    "\n",
    "cmap = ['#3E9ADE', '#EF242B', '#9FC741']\n",
    "\n",
    "style_dict = dict(\n",
    "        orient='h',\n",
    "        palette=cmap,\n",
    "        edgecolor=\"k\",\n",
    "        linewidth=2.0,\n",
    "        errwidth=2.0,\n",
    "        capsize=0.07)\n",
    "\n",
    "ax = axes[0]\n",
    "sns.barplot(x=\"s\", \n",
    "        y=\"util\", \n",
    "        data=df.sort_values('util'),\n",
    "        order=labels,\n",
    "        hue='ncores',\n",
    "        hue_order=[4,2,1],\n",
    "        ax=ax,\n",
    "        **style_dict\n",
    ")\n",
    "ax.set_ylabel('')\n",
    "ax.set_xlabel('Time (sec)')\n",
    "ax.set_yticklabels(labels_mod)\n",
    "ax.set_axisbelow(True)\n",
    "ax.grid(which='both', axis='x', color='k')\n",
    "#ax.set_xscale('log')\n",
    "ax.set_xlim([0, 5e3])\n",
    "ax.set_xticks(np.arange(0, 5000, 100), minor=True)\n",
    "ax.grid(which='minor', axis='x', alpha=0.2, color='k')\n",
    "ax.get_legend().remove()\n",
    "\n",
    "ax = axes[1]\n",
    "sns.barplot(x=\"max_rss\", \n",
    "        y=\"util\", \n",
    "        data=df.sort_values('util'),\n",
    "        order=labels,\n",
    "        hue='ncores',\n",
    "        hue_order=[4,2,1],\n",
    "        ax=ax,\n",
    "        **style_dict)\n",
    "\n",
    "ax.set_ylabel('')\n",
    "ax.set_xlabel('Maximum Resident Set Size (MB)')\n",
    "ax.set_yticklabels(labels_mod)\n",
    "ax.set_axisbelow(True)\n",
    "ax.grid(which='both', axis='x', color='k')\n",
    "ax.set_xticks(np.arange(0, 30000, 1000), minor=True)\n",
    "ax.grid(which='minor', axis='x', alpha=0.2, color='k')\n",
    "\n",
    "fig.suptitle('Benchmark of different Hi-C mapping tools for 1 mln reads (5 iterations)', y=0.99)\n",
    "\n",
    "# (x, y, width, height)\n",
    "bb = (fig.subplotpars.left, fig.subplotpars.top+0.002, fig.subplotpars.right-fig.subplotpars.left, 0.2)\n",
    "ax.legend(bbox_to_anchor=bb, title=\"Number of cores\", loc=\"lower right\", ncol=3, borderaxespad=0., bbox_transform=fig.transFigure, frameon=False)\n",
    "\n",
    "plt.savefig(\"benchmarking_1mln.pdf\")"
   ]
  },
  {
   "cell_type": "code",
   "execution_count": 55,
   "id": "1f41e7db-0f80-45f6-96f6-d1ae81055b83",
   "metadata": {},
   "outputs": [
    {
     "data": {
      "image/png": "[encoded data removed]",
      "text/plain": [
       "<Figure size 841.68x595.44 with 2 Axes>"
      ]
     },
     "metadata": {},
     "output_type": "display_data"
    }
   ],
   "source": [
    "fig, axes = plt.subplots(nrows=1, ncols=2, sharey=True)\n",
    "\n",
    "cmap = ['#3E9ADE', '#EF242B', '#9FC741']\n",
    "\n",
    "style_dict = dict(\n",
    "        orient='h',\n",
    "        palette=cmap,\n",
    "        edgecolor=\"k\",\n",
    "        linewidth=2.0,\n",
    "        errwidth=2.0,\n",
    "        capsize=0.07)\n",
    "\n",
    "ax = axes[0]\n",
    "sns.barplot(x=\"s\", \n",
    "        y=\"util\", \n",
    "        data=df.sort_values('util'),\n",
    "        order=labels,\n",
    "        hue='ncores',\n",
    "        hue_order=[4,2,1],\n",
    "        ax=ax,\n",
    "        **style_dict\n",
    ")\n",
    "ax.set_ylabel('')\n",
    "ax.set_xlabel('Time (sec)')\n",
    "ax.set_yticklabels(labels_mod)\n",
    "ax.set_axisbelow(True)\n",
    "ax.grid(which='both', axis='x', color='k')\n",
    "ax.set_xscale('log')\n",
    "ax.set_xlim([1, 5e3])\n",
    "# ax.set_xticks(np.arange(0, 5000, 100), minor=True)\n",
    "ax.grid(which='minor', axis='x', alpha=0.2, color='k')\n",
    "ax.get_legend().remove()\n",
    "\n",
    "ax = axes[1]\n",
    "sns.barplot(x=\"max_rss\", \n",
    "        y=\"util\", \n",
    "        data=df.sort_values('util'),\n",
    "        order=labels,\n",
    "        hue='ncores',\n",
    "        hue_order=[4,2,1],\n",
    "        ax=ax,\n",
    "        **style_dict)\n",
    "\n",
    "ax.set_ylabel('')\n",
    "ax.set_xlabel('Maximum Resident Set Size (MB)')\n",
    "ax.set_yticklabels(labels_mod)\n",
    "ax.set_axisbelow(True)\n",
    "ax.grid(which='both', axis='x', color='k')\n",
    "ax.set_xticks(np.arange(0, 30000, 1000), minor=True)\n",
    "ax.grid(which='minor', axis='x', alpha=0.2, color='k')\n",
    "\n",
    "fig.suptitle('Benchmark of different Hi-C mapping tools for 1 mln reads (5 iterations)', y=0.99)\n",
    "\n",
    "# (x, y, width, height)\n",
    "bb = (fig.subplotpars.left, fig.subplotpars.top+0.002, fig.subplotpars.right-fig.subplotpars.left, 0.2)\n",
    "ax.legend(bbox_to_anchor=bb, title=\"Number of cores\", loc=\"lower right\", ncol=3, borderaxespad=0., bbox_transform=fig.transFigure, frameon=False)\n",
    "\n",
    "plt.savefig(\"benchmarking_1mln_log.pdf\")"
   ]
  },
  {
   "cell_type": "code",
   "execution_count": 10,
   "id": "06fa2f0b-1c9e-473b-bbdd-3157f1d81a1a",
   "metadata": {},
   "outputs": [],
   "source": [
    "df.to_csv('benchmarking_1mln.csv')"
   ]
  }
 ],
 "metadata": {
  "kernelspec": {
   "display_name": "test",
   "language": "python",
   "name": "test"
  },
  "language_info": {
   "codemirror_mode": {
    "name": "ipython",
    "version": 3
   },
   "file_extension": ".py",
   "mimetype": "text/x-python",
   "name": "python",
   "nbconvert_exporter": "python",
   "pygments_lexer": "ipython3",
   "version": "3.8.8"
  }
 },
 "nbformat": 4,
 "nbformat_minor": 5
}
